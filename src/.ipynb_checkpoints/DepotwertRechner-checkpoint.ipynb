{
 "cells": [
  {
   "cell_type": "markdown",
   "metadata": {
    "id": "-H7j3Ru2mXMk"
   },
   "source": [
    "# Benutzung des Tools\n",
    "\n",
    "1. Unter dem Namen der Datei auf Runtime/Laufzeit drücken.\n",
    "2. Run all auswählen.\n",
    "3. Auf Eingabenabfrage warten und diese tätigen."
   ]
  },
  {
   "cell_type": "code",
   "execution_count": 1,
   "metadata": {
    "id": "u8RVVWskmXM0",
    "scrolled": true
   },
   "outputs": [],
   "source": [
    "import numpy as np\n",
    "import pandas as pd\n",
    "import pandas_datareader.data as reader\n",
    "import datetime as dt\n",
    "import math"
   ]
  },
  {
   "cell_type": "markdown",
   "metadata": {
    "id": "GCg5MlC_nikN"
   },
   "source": [
    "## Eingabeaufforderung\n",
    "\n",
    "Hier die angeforderten Eingaben ausfüllen.\n",
    "\n",
    "- Die Anzahl der enthaltenen Positionen im Portfolio\n",
    "- Die Position und die monatliche Sparrate dieser Position\n",
    "- Das Startdatum des Portfolios\n",
    "\n",
    "Es lassen sich mit diesem Tool nicht nur ETFs und Aktien, sondern auch Rohstoffe und alle Daten, die über Yahoo Finance zu finden sind analysieren."
   ]
  },
  {
   "cell_type": "code",
   "execution_count": 2,
   "metadata": {
    "colab": {
     "base_uri": "https://localhost:8080/"
    },
    "id": "4ufinVC252gQ",
    "outputId": "d1df5e94-f311-4e22-e90c-f16dc70a95ab"
   },
   "outputs": [
    {
     "name": "stdout",
     "output_type": "stream",
     "text": [
      "Wieviele Assets sind in Ihrem Musterportfolio? 3\n",
      "Welches Asset würden Sie gerne Ihrem Portfolio hinzufügen? AAPL\n",
      "Wieviel zahlen Sie monatlich in dieses Asset? 50\n",
      "Welches Asset würden Sie gerne Ihrem Portfolio hinzufügen? TSLA\n",
      "Wieviel zahlen Sie monatlich in dieses Asset? 100\n",
      "Welches Asset würden Sie gerne Ihrem Portfolio hinzufügen? SAP.DE\n",
      "Wieviel zahlen Sie monatlich in dieses Asset? 500\n",
      "Bitte geben Sie den Beginn des Portfolios ein (Format: yyyy,mm,dd): 2019,09,01\n"
     ]
    }
   ],
   "source": [
    "## Erstellen des Portfolios und Zeitraumes\n",
    "\n",
    "# Portfolio zusammensetzen\n",
    "try:\n",
    "    num_assets = int(input(\"Wieviele Assets sind in Ihrem Musterportfolio? \"))\n",
    "    if(num_assets < 1):\n",
    "        raise Exception(\"Keine Zahlen unter 1 sind erlaubt.\")\n",
    "except:\n",
    "    print(\"Die Anzahl der Assets konnte nicht gelesen werden.\\nVersuchen Sie es erneut.\")\n",
    "    exit()\n",
    "\n",
    "asset_list = []\n",
    "rates_list = []\n",
    "\n",
    "for i in range(num_assets):\n",
    "  asset_list.append(input(\"Welches Asset würden Sie gerne Ihrem Portfolio hinzufügen? \"))\n",
    "  rates_list.append(float(input(\"Wieviel zahlen Sie monatlich in dieses Asset? \")))\n",
    "portfolio = dict(zip(asset_list, rates_list))\n",
    "\n",
    "# Zeitraum bestimmen\n",
    "start_eingabe = input(\"Bitte geben Sie den Beginn des Portfolios ein (Format: yyyy,mm,dd): \").split(\",\")\n",
    "formation = dt.datetime(int(start_eingabe[0]), int(start_eingabe[1]), int(start_eingabe[2]))"
   ]
  },
  {
   "cell_type": "code",
   "execution_count": 3,
   "metadata": {},
   "outputs": [],
   "source": [
    "## Referenzdaten bestimmen\n",
    "\n",
    "# Gesamte monatliche Einzahlungen bestimmen\n",
    "monatliche_einz = 0\n",
    "for i in rates_list:\n",
    "  monatliche_einz += i\n",
    "\n",
    "referenz_depot = {'URTH': monatliche_einz, '^GSPC': monatliche_einz, '^GDAXI': monatliche_einz}"
   ]
  },
  {
   "cell_type": "code",
   "execution_count": 4,
   "metadata": {},
   "outputs": [],
   "source": [
    "## Funktion zur Erstellung von Depots mit gebenen Einzahlungen\n",
    "## Wird für eigenes und Referenzdepot verwendet\n",
    "def rendite_berechnen(depot, formation):\n",
    "    \n",
    "    # Kurse der Ticker einholen und monatliche Rendite berechnen\n",
    "    df = reader.get_data_yahoo(list(depot.keys()),formation,interval='m')['Adj Close'].reset_index(drop=True)\n",
    "    mtl_ret = df.pct_change() + 1\n",
    "    \n",
    "    # Depotwert nach angegebener Zeit berechnen\n",
    "    depot_werte = pd.DataFrame(0,columns=depot.keys(), index=[0])\n",
    "    for i in range(1, mtl_ret.shape[0]):\n",
    "        for key in depot.keys():\n",
    "            if (not math.isnan(df.loc[i,key])) and (not math.isnan(mtl_ret.loc[i,key])):\n",
    "                depot_werte.loc[0,key] += depot[key]\n",
    "                depot_werte[key] *= mtl_ret.loc[i, key]\n",
    "                \n",
    "    return depot_werte"
   ]
  },
  {
   "cell_type": "code",
   "execution_count": 5,
   "metadata": {},
   "outputs": [
    {
     "name": "stdout",
     "output_type": "stream",
     "text": [
      "          AAPL          TSLA        SAP.DE\n",
      "0  2024.927513  14794.627092  14564.070602\n"
     ]
    }
   ],
   "source": [
    "## Berechnen der Depotwerte (Portfolio und Referenzdepot)\n",
    "\n",
    "portfolio_werte = rendite_berechnen(portfolio, formation)\n",
    "referenz_werte = rendite_berechnen(referenz_depot, formation)"
   ]
  },
  {
   "cell_type": "code",
   "execution_count": 6,
   "metadata": {
    "colab": {
     "base_uri": "https://localhost:8080/"
    },
    "id": "dQGVUSlhmXR4",
    "outputId": "f2f120d5-5c4a-4813-b1b9-a0e5e5f2dfb8"
   },
   "outputs": [
    {
     "name": "stdout",
     "output_type": "stream",
     "text": [
      "Ihr AAPL wäre auf einen Wert von 2024.93€ gewachsen.\n",
      "Ihr TSLA wäre auf einen Wert von 14794.63€ gewachsen.\n",
      "Ihr SAP.DE wäre auf einen Wert von 14564.07€ gewachsen.\n",
      "Ihr gesamtes Portfolio wäre somit auf einen Wert von 31383.63€ gewachsen.\n",
      "\n"
     ]
    }
   ],
   "source": [
    "## Zusammenrechnung der Einzelwerte des Porfolios\n",
    "\n",
    "# Berechnung des Wertes des gesamten Portfolios\n",
    "gesamt_depotwert = 0\n",
    "for column in portfolio_werte:\n",
    "    aktien_wert = round(portfolio_werte[column][0],2)\n",
    "    gesamt_depotwert += aktien_wert\n",
    "    print(f\"Ihr {column} wäre auf einen Wert von {aktien_wert}€ gewachsen.\")\n",
    "\n",
    "print(f\"Ihr gesamtes Portfolio wäre somit auf einen Wert von {round(gesamt_depotwert,2)}€ gewachsen.\")\n",
    "print(\"\")"
   ]
  },
  {
   "cell_type": "code",
   "execution_count": 7,
   "metadata": {},
   "outputs": [
    {
     "name": "stdout",
     "output_type": "stream",
     "text": [
      "Zum Vergleich ein paar Indizes:\n",
      "Ein URTH wäre bei gleicher Sparrate einen Wert von 22054.97€ gewachsen.\n",
      "Ein ^GSPC wäre bei gleicher Sparrate einen Wert von 22305.06€ gewachsen.\n",
      "Ein ^GDAXI wäre bei gleicher Sparrate einen Wert von 20066.07€ gewachsen.\n"
     ]
    }
   ],
   "source": [
    "## Ausgabe der Referenzwerte\n",
    "\n",
    "print(\"Zum Vergleich ein paar Indizes:\")\n",
    "for x in referenz_werte:\n",
    "  print(f\"Ein {x} wäre bei gleicher Sparrate einen Wert von {round(referenz_werte[x][0],2)}€ gewachsen.\")"
   ]
  }
 ],
 "metadata": {
  "colab": {
   "collapsed_sections": [],
   "name": "DepotwertRechner.ipynb",
   "provenance": []
  },
  "kernelspec": {
   "display_name": "Python 3 (ipykernel)",
   "language": "python",
   "name": "python3"
  },
  "language_info": {
   "codemirror_mode": {
    "name": "ipython",
    "version": 3
   },
   "file_extension": ".py",
   "mimetype": "text/x-python",
   "name": "python",
   "nbconvert_exporter": "python",
   "pygments_lexer": "ipython3",
   "version": "3.9.7"
  }
 },
 "nbformat": 4,
 "nbformat_minor": 1
}
