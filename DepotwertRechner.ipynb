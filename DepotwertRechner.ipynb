{
 "cells": [
  {
   "cell_type": "markdown",
   "metadata": {
    "id": "-H7j3Ru2mXMk"
   },
   "source": [
    "# Benutzung des Tools\n",
    "\n",
    "1. Unter dem Namen der Datei auf Runtime/Laufzeit drücken.\n",
    "2. Run all auswählen.\n",
    "3. Auf Eingabenabfrage warten und diese tätigen."
   ]
  },
  {
   "cell_type": "code",
   "execution_count": 1,
   "metadata": {
    "id": "u8RVVWskmXM0"
   },
   "outputs": [],
   "source": [
    "import pandas_datareader.data as reader\n",
    "import pandas as pd\n",
    "import numpy as np\n",
    "import datetime as dt\n",
    "import math"
   ]
  },
  {
   "cell_type": "markdown",
   "metadata": {
    "id": "GCg5MlC_nikN"
   },
   "source": [
    "## Eingabeaufforderung\n",
    "\n",
    "Hier die angeforderten Eingaben ausfüllen.\n",
    "\n",
    "- Die Anzahl der enthaltenen Positionen im Portfolio\n",
    "- Die Position und die monatliche Sparrate dieser Position\n",
    "- Das Startdatum des Portfolios\n",
    "\n",
    "Es lassen sich mit diesem Tool nicht nur ETFs und Aktien, sondern auch Rohstoffe und alle Daten, die über Yahoo Finance zu finden sind analysieren."
   ]
  },
  {
   "cell_type": "code",
   "execution_count": 2,
   "metadata": {
    "colab": {
     "base_uri": "https://localhost:8080/"
    },
    "id": "4ufinVC252gQ",
    "outputId": "d1df5e94-f311-4e22-e90c-f16dc70a95ab"
   },
   "outputs": [
    {
     "name": "stdout",
     "output_type": "stream",
     "text": [
      "Wieviele Assets sind in Ihrem Musterportfolio? 3\n",
      "Welches Asset würden Sie gerne Ihrem Portfolio hinzufügen? URTH\n",
      "Wieviel zahlen monatlich in dieses Asset? 1\n",
      "Welches Asset würden Sie gerne Ihrem Portfolio hinzufügen? ^GSPC\n",
      "Wieviel zahlen monatlich in dieses Asset? 1\n",
      "Welches Asset würden Sie gerne Ihrem Portfolio hinzufügen? ^GDAXI\n",
      "Wieviel zahlen monatlich in dieses Asset? 1\n",
      "Bitte geben Sie den Beginn des Portfolios ein (Format: 2015,12,7): 2020,1,1\n"
     ]
    }
   ],
   "source": [
    "## Erstellen des Portfolios und Zeitraumes\n",
    "\n",
    "# Portfolio zusammensetzen\n",
    "num_assets = int(input(\"Wieviele Assets sind in Ihrem Musterportfolio? \"))\n",
    "asset_list = []\n",
    "rates_list = []\n",
    "i = 0\n",
    "for i in range(num_assets):\n",
    "  asset_list.append(input(\"Welches Asset würden Sie gerne Ihrem Portfolio hinzufügen? \"))\n",
    "  rates_list.append(float(input(\"Wieviel zahlen monatlich in dieses Asset? \")))\n",
    "portfolio = dict(zip(asset_list, rates_list))\n",
    "\n",
    "# Zeitraum bestimmen\n",
    "formation = input(\"Bitte geben Sie den Beginn des Portfolios ein (Format: 2015,12,7): \").split(\",\")\n",
    "formation = dt.datetime(int(formation[0]), int(formation[1]), int(formation[2]))"
   ]
  },
  {
   "cell_type": "code",
   "execution_count": 3,
   "metadata": {},
   "outputs": [],
   "source": [
    "## Referenzdaten bestimmen\n",
    "\n",
    "# Gesamte monatliche Einzahlungen bestimmen\n",
    "monatliche_einz = 0\n",
    "for i in rates_list:\n",
    "  monatliche_einz += i\n",
    "\n",
    "# Referenzdepots zusammensetzen\n",
    "referenz_list = ['URTH', '^GSPC','^GDAXI']\n",
    "referenz_einz = [monatliche_einz, monatliche_einz, monatliche_einz] \n",
    "referenz_depot = dict(zip(referenz_list, referenz_einz))"
   ]
  },
  {
   "cell_type": "code",
   "execution_count": 4,
   "metadata": {},
   "outputs": [],
   "source": [
    "## Funktion zur Erstellung von Depots mit gebenen Einzahlungen\n",
    "## Wird für eigenes und Referenzdepot verwendet\n",
    "def rendite_berechnen(ticker_list, einzahlungen):\n",
    "    \n",
    "    # Kurse der Ticker einholen und monatliche Rendite berechnen\n",
    "    df = reader.get_data_yahoo(ticker_list,formation,interval='m')['Adj Close']\n",
    "    mtl_ret = df.pct_change() + 1\n",
    "    mtl_ret = mtl_ret.reset_index(drop=True)\n",
    "    \n",
    "    \n",
    "    # Depotwert nach angegebener Zeit berechnen\n",
    "    depot_werte = pd.DataFrame(0,columns=ticker_list, index=[0])\n",
    "    for i in range(mtl_ret.shape[0]):\n",
    "        for ticker in ticker_list:\n",
    "            if not mtl_ret.loc[i,ticker] == 1.000000:\n",
    "                depot_werte.loc[0,ticker] += einzahlungen[ticker]\n",
    "            if not math.isnan(mtl_ret.loc[i,ticker]):\n",
    "                depot_werte[ticker] *= mtl_ret.loc[i, ticker]\n",
    "                \n",
    "    return depot_werte"
   ]
  },
  {
   "cell_type": "code",
   "execution_count": 5,
   "metadata": {},
   "outputs": [],
   "source": [
    "## Berechnen der Depotwerte (Portfolio und Referenzdepot)\n",
    "\n",
    "portfolio_werte = rendite_berechnen(asset_list, portfolio)\n",
    "referenz_werte = rendite_berechnen(referenz_list, referenz_depot)"
   ]
  },
  {
   "cell_type": "code",
   "execution_count": 6,
   "metadata": {
    "colab": {
     "base_uri": "https://localhost:8080/"
    },
    "id": "dQGVUSlhmXR4",
    "outputId": "f2f120d5-5c4a-4813-b1b9-a0e5e5f2dfb8"
   },
   "outputs": [
    {
     "name": "stdout",
     "output_type": "stream",
     "text": [
      "Ihr URTH wäre auf einen Wert von 17.15€ gewachsen.\n",
      "Ihr ^GSPC wäre auf einen Wert von 16.85€ gewachsen.\n",
      "Ihr ^GDAXI wäre auf einen Wert von 15.8€ gewachsen.\n",
      "Ihr gesamtes Portfolio wäre somit auf einen Wert von 49.8€ gewachsen.\n",
      "\n"
     ]
    }
   ],
   "source": [
    "## Zusammenrechnung der Einzelwerte des Porfolios\n",
    "\n",
    "# Berechnung des Wertes des gesamten Portfolios\n",
    "gesamt_depotwert = 0\n",
    "for column in portfolio_werte:\n",
    "  gesamt_depotwert += round(portfolio_werte[column][0],2)\n",
    "  print(f\"Ihr {column} wäre auf einen Wert von {round(portfolio_werte[column][0],2)}€ gewachsen.\")\n",
    "\n",
    "print(f\"Ihr gesamtes Portfolio wäre somit auf einen Wert von {round(gesamt_depotwert,2)}€ gewachsen.\")\n",
    "print(\"\")"
   ]
  },
  {
   "cell_type": "code",
   "execution_count": 7,
   "metadata": {},
   "outputs": [
    {
     "name": "stdout",
     "output_type": "stream",
     "text": [
      "Zum Vergleich ein paar Indizes:\n",
      "Ein URTH wäre bei gleicher Sparrate einen Wert von 51.44€ gewachsen.\n",
      "Ein ^GSPC wäre bei gleicher Sparrate einen Wert von 50.56€ gewachsen.\n",
      "Ein ^GDAXI wäre bei gleicher Sparrate einen Wert von 47.41€ gewachsen.\n"
     ]
    }
   ],
   "source": [
    "## Ausgabe der Referenzwerte\n",
    "\n",
    "print(\"Zum Vergleich ein paar Indizes:\")\n",
    "for x in referenz_werte:\n",
    "  print(f\"Ein {x} wäre bei gleicher Sparrate einen Wert von {round(referenz_werte[x][0],2)}€ gewachsen.\")"
   ]
  }
 ],
 "metadata": {
  "colab": {
   "collapsed_sections": [],
   "name": "DepotwertRechner.ipynb",
   "provenance": []
  },
  "kernelspec": {
   "display_name": "Python 3",
   "language": "python",
   "name": "python3"
  },
  "language_info": {
   "codemirror_mode": {
    "name": "ipython",
    "version": 3
   },
   "file_extension": ".py",
   "mimetype": "text/x-python",
   "name": "python",
   "nbconvert_exporter": "python",
   "pygments_lexer": "ipython3",
   "version": "3.8.6"
  }
 },
 "nbformat": 4,
 "nbformat_minor": 1
}
