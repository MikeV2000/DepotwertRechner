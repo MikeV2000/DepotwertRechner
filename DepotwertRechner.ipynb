{
  "nbformat": 4,
  "nbformat_minor": 0,
  "metadata": {
    "kernelspec": {
      "display_name": "Python 3",
      "language": "python",
      "name": "python3"
    },
    "language_info": {
      "codemirror_mode": {
        "name": "ipython",
        "version": 3
      },
      "file_extension": ".py",
      "mimetype": "text/x-python",
      "name": "python",
      "nbconvert_exporter": "python",
      "pygments_lexer": "ipython3",
      "version": "3.8.6"
    },
    "colab": {
      "name": "DepotwertRechner.ipynb",
      "provenance": [],
      "collapsed_sections": []
    }
  },
  "cells": [
    {
      "cell_type": "markdown",
      "metadata": {
        "id": "-H7j3Ru2mXMk"
      },
      "source": [
        "# Benutzung des Tools\n",
        "\n",
        "1. Unter dem Namen der Datei auf Runtime/Laufzeit drücken.\n",
        "2. Run all auswählen.\n",
        "3. Auf Eingabenabfrage warten und diese tätigen."
      ]
    },
    {
      "cell_type": "code",
      "metadata": {
        "id": "u8RVVWskmXM0"
      },
      "source": [
        "import pandas_datareader.data as reader\n",
        "import pandas as pd\n",
        "import numpy as np\n",
        "import datetime as dt\n",
        "import math"
      ],
      "execution_count": 1,
      "outputs": []
    },
    {
      "cell_type": "markdown",
      "metadata": {
        "id": "GCg5MlC_nikN"
      },
      "source": [
        "## Eingabeaufforderung\n",
        "\n",
        "Hier die angeforderten Eingaben ausfüllen.\n",
        "\n",
        "- Die Anzahl der enthaltenen Positionen im Portfolio\n",
        "- Die Position und die monatliche Sparrate dieser Position\n",
        "- Das Startdatum des Portfolios\n",
        "\n",
        "Es lassen sich mit diesem Tool nicht nur ETFs und Aktien, sondern auch Rohstoffe und alle Daten, die über Yahoo Finance zu finden sind analysieren."
      ]
    },
    {
      "cell_type": "code",
      "metadata": {
        "colab": {
          "base_uri": "https://localhost:8080/"
        },
        "id": "4ufinVC252gQ",
        "outputId": "d1df5e94-f311-4e22-e90c-f16dc70a95ab"
      },
      "source": [
        "## Erstellen des Portfolios und Zeitraumes\n",
        "num_assets = int(input(\"Wieviele Assets sind in Ihrem Musterportfolio? \"))\n",
        "\n",
        "asset_list = []\n",
        "rates_list = []\n",
        "i = 0\n",
        "for i in range(num_assets):\n",
        "  asset_list.append(input(\"Welches Asset würden Sie gerne Ihrem Portfolio hinzufügen? \"))\n",
        "  rates_list.append(float(input(\"Wieviel zahlen monatlich in dieses Asset? \")))\n",
        "\n",
        "portfolio = dict(zip(asset_list, rates_list))\n",
        "\n",
        "formation = input(\"Bitte geben Sie den Beginn des Portfolios ein (Format: 2015,12,7): \").split(\",\")\n",
        "formation = dt.datetime(int(formation[0]), int(formation[1]), int(formation[2]))"
      ],
      "execution_count": 2,
      "outputs": [
        {
          "output_type": "stream",
          "text": [
            "Wieviele Assets sind in Ihrem Musterportfolio? 5\n",
            "Welches Asset würden Sie gerne Ihrem Portfolio hinzufügen? AAPL\n",
            "Wieviel zahlen monatlich in dieses Asset? 100\n",
            "Welches Asset würden Sie gerne Ihrem Portfolio hinzufügen? TSLA\n",
            "Wieviel zahlen monatlich in dieses Asset? 100\n",
            "Welches Asset würden Sie gerne Ihrem Portfolio hinzufügen? SAP.DE\n",
            "Wieviel zahlen monatlich in dieses Asset? 100\n",
            "Welches Asset würden Sie gerne Ihrem Portfolio hinzufügen? O\n",
            "Wieviel zahlen monatlich in dieses Asset? 100\n",
            "Welches Asset würden Sie gerne Ihrem Portfolio hinzufügen? FB\n",
            "Wieviel zahlen monatlich in dieses Asset? 100\n",
            "Bitte geben Sie den Beginn des Portfolios ein (Format: 2015,12,7): 2015,1,1\n"
          ],
          "name": "stdout"
        }
      ]
    },
    {
      "cell_type": "code",
      "metadata": {
        "id": "HGPKx4rYB9v0"
      },
      "source": [
        "## Schlusskurse und Veränderungen ermitteln\n",
        "\n",
        "df = reader.get_data_yahoo(asset_list,formation,interval='m')['Adj Close']\n",
        "mtl_ret = df.pct_change() + 1\n",
        "mtl_ret = mtl_ret.reset_index(drop=True)"
      ],
      "execution_count": 3,
      "outputs": []
    },
    {
      "cell_type": "code",
      "metadata": {
        "id": "4aJnqVWKCmCT"
      },
      "source": [
        "# DataFrame mit den Startwerten\n",
        "portfolio_werte = pd.DataFrame(columns=asset_list, index=[0])\n",
        "for asset in asset_list:\n",
        "  portfolio_werte.loc[0,asset] = portfolio[asset]\n",
        "\n",
        "\n",
        "# Berechnung der Endwerte für die einzelnen Assets\n",
        "for i in range(1, mtl_ret.shape[0]):\n",
        "  for asset in asset_list:\n",
        "    portfolio_werte[asset] += portfolio[asset]\n",
        "    if not math.isnan(mtl_ret.loc[i, asset]):\n",
        "      portfolio_werte[asset] *= mtl_ret.loc[i,asset]"
      ],
      "execution_count": 10,
      "outputs": []
    },
    {
      "cell_type": "code",
      "metadata": {
        "id": "COWpYTkIou6I"
      },
      "source": [
        "# Referenzwerte berechnen\n",
        "referenz_list = ['URTH', '^GSPC', '^GDAXI']\n",
        "dfref = reader.get_data_yahoo(referenz_list, formation,interval='m')['Adj Close']\n",
        "mtl_retref = dfref.pct_change() + 1\n",
        "mtl_retref = mtl_retref.reset_index(drop=True)\n",
        "\n",
        "monatliche_einz = 0\n",
        "for i in rates_list:\n",
        "  monatliche_einz += i\n",
        "\n",
        "referenz_werte = pd.DataFrame({'URTH': monatliche_einz,'^GSPC': monatliche_einz,'^GDAXI':monatliche_einz}, index=[0])\n",
        "\n",
        "for x in range(1, mtl_retref.shape[0]):\n",
        "  for referenz in referenz_list:\n",
        "    referenz_werte[referenz] += monatliche_einz\n",
        "    if not math.isnan(mtl_retref.loc[x,referenz]):\n",
        "      referenz_werte[referenz] *= mtl_retref.loc[x,referenz]"
      ],
      "execution_count": 11,
      "outputs": []
    },
    {
      "cell_type": "code",
      "metadata": {
        "colab": {
          "base_uri": "https://localhost:8080/"
        },
        "id": "dQGVUSlhmXR4",
        "outputId": "f2f120d5-5c4a-4813-b1b9-a0e5e5f2dfb8"
      },
      "source": [
        "gesamt_depotwert = 0\n",
        "for column in portfolio_werte:\n",
        "  gesamt_depotwert += round(portfolio_werte[column][0],2)\n",
        "  print(f\"Ihr {column} wäre auf einen Wert von {round(portfolio_werte[column][0],2)}€ gewachsen.\")\n",
        "\n",
        "print(f\"Ihr gesamtes Portfolio wäre somit auf einen Wert von {round(gesamt_depotwert,2)}€ gewachsen.\")\n",
        "print(\"\")\n",
        "print(\"Zum Vergleich ein paar Indizes:\")\n",
        "\n",
        "\n",
        "for x in referenz_werte:\n",
        "  print(f\"Ein {x} wäre bei gleicher Sparrate einen Wert von {round(referenz_werte[x][0],2)}€ gewachsen.\")\n"
      ],
      "execution_count": 12,
      "outputs": [
        {
          "output_type": "stream",
          "text": [
            "Ihr AAPL wäre auf einen Wert von 54029.52€ gewachsen.\n",
            "Ihr TSLA wäre auf einen Wert von 210142.72€ gewachsen.\n",
            "Ihr SAP.DE wäre auf einen Wert von 18610.86€ gewachsen.\n",
            "Ihr O wäre auf einen Wert von 17380.16€ gewachsen.\n",
            "Ihr FB wäre auf einen Wert von 28511.36€ gewachsen.\n",
            "Ihr gesamtes Portfolio wäre somit auf einen Wert von 328674.62€ gewachsen.\n",
            "\n",
            "Zum Vergleich ein paar Indizes:\n",
            "Ein URTH wäre bei gleicher Sparrate einen Wert von 111280.67€ gewachsen.\n",
            "Ein ^GSPC wäre bei gleicher Sparrate einen Wert von 112642.85€ gewachsen.\n",
            "Ein ^GDAXI wäre bei gleicher Sparrate einen Wert von 87631.25€ gewachsen.\n"
          ],
          "name": "stdout"
        }
      ]
    }
  ]
}